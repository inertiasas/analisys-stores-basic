{
 "cells": [
  {
   "cell_type": "markdown",
   "metadata": {},
   "source": [
    "# Obtener la información de la tienda\n",
    "\n",
    "Autor: Luis Camilo Jimenez, CEO\n"
   ]
  },
  {
   "cell_type": "markdown",
   "metadata": {},
   "source": [
    "## Librerías"
   ]
  },
  {
   "cell_type": "code",
   "execution_count": 65,
   "metadata": {},
   "outputs": [],
   "source": [
    "import requests\n",
    "from bs4 import BeautifulSoup\n",
    "import json\n",
    "import pandas as pd\n",
    "from nltk.tokenize import word_tokenize\n",
    "from nltk.stem import SnowballStemmer\n",
    "from nltk.corpus import stopwords\n",
    "from sklearn import model_selection, naive_bayes, svm\n",
    "from sklearn.preprocessing import LabelEncoder\n",
    "from sklearn.feature_extraction.text import TfidfVectorizer\n",
    "from sklearn.metrics import accuracy_score"
   ]
  },
  {
   "cell_type": "markdown",
   "metadata": {},
   "source": [
    "## Listado de productos"
   ]
  },
  {
   "cell_type": "code",
   "execution_count": 38,
   "metadata": {},
   "outputs": [
    {
     "name": "stdout",
     "output_type": "stream",
     "text": [
      "[<h2 class=\"nm-product-name\" itemprop=\"name\">\n",
      "            <a alt=\"//www.tiendasjumbo.co/yogurt-griego-deja-mu-natural-x-1000g/p?idsku=22776\" href=\"//www.tiendasjumbo.co/yogurt-griego-deja-mu-natural-x-1000g/p?idsku=22776\" title=\"Yogurt Griego Deja Mu Natural X 1000g\">Yogurt Griego Deja Mu Natural X 1000g</a>\n",
      "            <div class=\"nm-product-brand\">\n",
      "\n",
      "                DEJA-MU\n",
      "            </div>\n",
      "        </h2>, <h2 class=\"nm-product-name\" itemprop=\"name\">\n",
      "            <a alt=\"//www.tiendasjumbo.co/yogo-yogo-surt-alpina-1000cc-x3un/p?idsku=119918\" href=\"//www.tiendasjumbo.co/yogo-yogo-surt-alpina-1000cc-x3un/p?idsku=119918\" title=\"Yogo-Yogo surtido Alpina x3 unidades  x1000g c-u...\">Yogo-Yogo surtido Alpina x3 unidades  x1000g c-u...</a>\n",
      "            <div class=\"nm-product-brand\">\n",
      "\n",
      "                YOGO YOGO\n",
      "            </div>\n",
      "        </h2>]\n"
     ]
    }
   ],
   "source": [
    "term = 'lacteos'\n",
    "url_search = 'https://busqueda.tiendasjumbo.co/busca?q={0}'.format(term)\n",
    "search = requests.get(url_search)\n",
    "soup_search = BeautifulSoup(search.text, \"html5lib\")\n",
    "results = soup_search.find_all('h2',class_=\"nm-product-name\")\n",
    "print(results[:2])"
   ]
  },
  {
   "cell_type": "markdown",
   "metadata": {},
   "source": [
    "## Información del producto\n",
    "\n",
    "Extracción de información: Categorias, imagén, nombre, descripción, precio"
   ]
  },
  {
   "cell_type": "code",
   "execution_count": 39,
   "metadata": {},
   "outputs": [
    {
     "name": "stdout",
     "output_type": "stream",
     "text": [
      "[\n",
      "    {\n",
      "        \"category_1\": \"Yogurt\",\n",
      "        \"category_2\": \"L\\u00e1cteos, huevos y refrigerados\",\n",
      "        \"description\": \"Yogurt Griego natural, sin\\u00a0az\\u00facar y muy cremoso especialmente rico en prote\\u00ednas que tu cuerpo necesita.\",\n",
      "        \"name\": \"Yogurt Griego Deja Mu Natural X 1000g\",\n",
      "        \"price\": \"$21.590,00\",\n",
      "        \"url\": \"https://www.tiendasjumbo.co/yogurt-griego-deja-mu-natural-x-1000g/p?idsku=22776\",\n",
      "        \"url_image\": \"https://jumbocolombiafood.vteximg.com.br/arquivos/ids/3320714-1000-1000/7707365170623.jpg?v=636669101250600000\"\n",
      "    },\n",
      "    {\n",
      "        \"category_1\": \"Yogurt\",\n",
      "        \"category_2\": \"L\\u00e1cteos, huevos y refrigerados\",\n",
      "        \"description\": \"Disfruta del delicioso Yogo-Yogo surtido Alpina x3 unidades  x1000g c-u no te lo puedes perder\",\n",
      "        \"name\": \"Yogo-Yogo surtido Alpina x3 unidades  x1000g c-u - Yogo-Yogo surtido Alpina x3 unidades x1000g c-u\",\n",
      "        \"price\": \"$12.990,00\",\n",
      "        \"url\": \"https://www.tiendasjumbo.co/yogo-yogo-surt-alpina-1000cc-x3un/p?idsku=119918\",\n",
      "        \"url_image\": \"https://jumbocolombiafood.vteximg.com.br/arquivos/ids/3496757-1000-1000/7702001090297.jpg?v=637230819548000000\"\n",
      "    }\n",
      "]\n"
     ]
    }
   ],
   "source": [
    "products = []\n",
    "for index, result in enumerate(results):\n",
    "    product = {}\n",
    "    product[\"url\"] = 'https:'+ result.a.get('href')\n",
    "    # Obtiene la web page\n",
    "    search_product = requests.get(product[\"url\"])\n",
    "    # Soup\n",
    "    soup_product = BeautifulSoup(search_product.text, \"html5lib\")\n",
    "    # Categorías 1 y 2\n",
    "    lis = soup_product.find('div',class_=\"bread-crumb\").find_all('li')\n",
    "    product[\"category_1\"] = lis[3].span.string\n",
    "    product[\"category_2\"] = lis[2].span.string\n",
    "    # Imagen\n",
    "    product[\"url_image\"]=soup_product.find('div',id=\"image\").a.get('href')\n",
    "    # Nombre\n",
    "    product[\"name\"]=soup_product.find('div',class_=\"fn\").string\n",
    "    # Descripción\n",
    "    product[\"description\"]=soup_product.find('div',class_=\"productDescription\").string\n",
    "    # Precio\n",
    "    product[\"price\"]=soup_product.find('div',class_=\"plugin-preco\").find('strong',class_=\"skuBestPrice\").string\n",
    "    # Incluir\n",
    "    products.append(product)\n",
    "    \n",
    "print(json.dumps(products[:2], indent=4, sort_keys=True))"
   ]
  },
  {
   "cell_type": "markdown",
   "metadata": {},
   "source": [
    "# Analizar los productos\n",
    "\n",
    "## Extraer campos a analizar"
   ]
  },
  {
   "cell_type": "code",
   "execution_count": 40,
   "metadata": {},
   "outputs": [
    {
     "name": "stdout",
     "output_type": "stream",
     "text": [
      "  category_1                                               name\n",
      "0     Yogurt              Yogurt Griego Deja Mu Natural X 1000g\n",
      "1     Yogurt  Yogo-Yogo surtido Alpina x3 unidades  x1000g c...\n",
      "2     Yogurt      Yogurt griego Deja-Mu vegano arándanos x 160g\n",
      "3     Yogurt                    Yogurt Griego Alpina Coco x150g\n",
      "4     Yogurt               Yogurt Griego Alpina Arandanos x150g\n"
     ]
    }
   ],
   "source": [
    "df = pd.DataFrame.from_dict(products)\n",
    "col = ['category_1', 'name']\n",
    "df = df[col]\n",
    "print(df.head())"
   ]
  },
  {
   "cell_type": "markdown",
   "metadata": {},
   "source": [
    "## Ajustar nombre y verficar datos"
   ]
  },
  {
   "cell_type": "code",
   "execution_count": 41,
   "metadata": {},
   "outputs": [],
   "source": [
    "df = df[pd.notnull(df['name'])]\n",
    "df.columns = ['category', 'name']"
   ]
  },
  {
   "cell_type": "markdown",
   "metadata": {},
   "source": [
    "## Codificar categoría como entero"
   ]
  },
  {
   "cell_type": "code",
   "execution_count": 43,
   "metadata": {},
   "outputs": [
    {
     "name": "stdout",
     "output_type": "stream",
     "text": [
      "                   category  category_id\n",
      "0                    Yogurt            0\n",
      "6  Carnes frías y embutidos            1\n",
      "7                     Kumis            2\n"
     ]
    }
   ],
   "source": [
    "df['category_id'] = df['category'].factorize()[0]\n",
    "category_id_df = df[['category', 'category_id']].drop_duplicates().sort_values('category_id')\n",
    "category_to_id = dict(category_id_df.values)\n",
    "id_to_category = dict(category_id_df[['category_id', 'category']].values)\n",
    "print(category_id_df)"
   ]
  },
  {
   "cell_type": "markdown",
   "metadata": {},
   "source": [
    "## Se generan los tokens"
   ]
  },
  {
   "cell_type": "code",
   "execution_count": 44,
   "metadata": {},
   "outputs": [
    {
     "name": "stdout",
     "output_type": "stream",
     "text": [
      "  category                                               name  category_id\n",
      "0   Yogurt              yogurt griego deja mu natural x 1000g            0\n",
      "1   Yogurt  yogo-yogo surtido alpina x3 unidades  x1000g c...            0\n",
      "2   Yogurt      yogurt griego deja-mu vegano arándanos x 160g            0\n",
      "3   Yogurt                    yogurt griego alpina coco x150g            0\n",
      "4   Yogurt               yogurt griego alpina arandanos x150g            0\n"
     ]
    }
   ],
   "source": [
    "df['name'] = [entry.lower() for entry in df['name']]\n",
    "print(df.head())"
   ]
  },
  {
   "cell_type": "code",
   "execution_count": 48,
   "metadata": {},
   "outputs": [
    {
     "name": "stdout",
     "output_type": "stream",
     "text": [
      "  category                                               name  category_id\n",
      "0   Yogurt      [yogurt, griego, deja, mu, natural, x, 1000g]            0\n",
      "1   Yogurt  [yogo-yogo, surtido, alpina, x3, unidades, x10...            0\n",
      "2   Yogurt  [yogurt, griego, deja-mu, vegano, arándanos, x...            0\n",
      "3   Yogurt              [yogurt, griego, alpina, coco, x150g]            0\n",
      "4   Yogurt         [yogurt, griego, alpina, arandanos, x150g]            0\n"
     ]
    }
   ],
   "source": [
    "df['name']= [word_tokenize(entry) for entry in df['name']]\n",
    "print(df.head())"
   ]
  },
  {
   "cell_type": "code",
   "execution_count": 52,
   "metadata": {},
   "outputs": [
    {
     "name": "stdout",
     "output_type": "stream",
     "text": [
      "  category                                               name  category_id\n",
      "0   Yogurt   ['yogurt', 'grieg', 'dej', 'mu', 'natural', 'x']            0\n",
      "1   Yogurt  ['surt', 'alpin', 'unidad', 'surt', 'alpin', '...            0\n",
      "2   Yogurt       ['yogurt', 'grieg', 'vegan', 'arandan', 'x']            0\n",
      "3   Yogurt                ['yogurt', 'grieg', 'alpin', 'coc']            0\n",
      "4   Yogurt            ['yogurt', 'grieg', 'alpin', 'arandan']            0\n"
     ]
    }
   ],
   "source": [
    "for index,entry in enumerate(df['name']):\n",
    "    final_words = []\n",
    "    stemmer = SnowballStemmer('spanish')\n",
    "    for word in entry:\n",
    "        if word not in stopwords.words('spanish') and word.isalpha():\n",
    "            word_final = stemmer.stem(word)\n",
    "            final_words.append(word_final)\n",
    "            df.loc[index,'name'] = str(final_words)\n",
    "print(df.head())"
   ]
  },
  {
   "cell_type": "markdown",
   "metadata": {},
   "source": [
    "# Modelo\n",
    "\n",
    "## Se dividen los valores en los de entrenamiento y testeo"
   ]
  },
  {
   "cell_type": "code",
   "execution_count": 55,
   "metadata": {},
   "outputs": [],
   "source": [
    "Train_X, Test_X, Train_Y, Test_Y = model_selection.train_test_split(df['name'],df['category'],test_size=0.3)"
   ]
  },
  {
   "cell_type": "code",
   "execution_count": 58,
   "metadata": {},
   "outputs": [
    {
     "name": "stdout",
     "output_type": "stream",
     "text": [
      "[1 1 1 1 1 1 1 1 1 0 1 1 1 1 1 1]\n"
     ]
    }
   ],
   "source": [
    "Encoder = LabelEncoder()\n",
    "Train_Y = Encoder.fit_transform(Train_Y)\n",
    "Test_Y = Encoder.fit_transform(Test_Y)\n",
    "print(Train_Y)"
   ]
  },
  {
   "cell_type": "code",
   "execution_count": 62,
   "metadata": {},
   "outputs": [
    {
     "name": "stdout",
     "output_type": "stream",
     "text": [
      "{'yogurt': 50, 'grieg': 19, 'dej': 14, 'mu': 28, 'natural': 29, 'surt': 39, 'alpin': 0, 'unidad': 44, 'vegan': 46, 'arandan': 1, 'coc': 11, 'bonyurt': 8, 'cereal': 9, 'chokogozz': 10, 'salchich': 34, 'montefri': 26, 'superperr': 38, 'mixt': 25, 'zucarit': 53, 'pack': 30, 'bloqu': 6, 'jamon': 21, 'taj': 40, 'tip': 42, 'sandwich': 36, 'finess': 16, 'probiot': 33, 'babygu': 3, 'vainill': 45, 'banan': 4, 'gr': 18, 'und': 43, 'bols': 7, 'fres': 17, 'yagurt': 47, 'melocoton': 24, 'zorb': 52, 'dulc': 15, 'slight': 37, 'colant': 13, 'yog': 48, 'premi': 32, 'mor': 27, 'san': 35, 'martin': 23, 'colagen': 12, 'hidroliz': 20, 'pasc': 31, 'beb': 5, 'lacte': 22, 'yox': 51, 'yogur': 49, 'azuc': 2, 'tapiok': 41}\n"
     ]
    }
   ],
   "source": [
    "Tfidf_vect = TfidfVectorizer(max_features=5000)\n",
    "Tfidf_vect.fit(df['name'])\n",
    "print(Tfidf_vect.vocabulary_)"
   ]
  },
  {
   "cell_type": "code",
   "execution_count": 63,
   "metadata": {},
   "outputs": [
    {
     "name": "stdout",
     "output_type": "stream",
     "text": [
      "  (0, 52)\t0.5792342107056825\n",
      "  (0, 50)\t0.2482102214839373\n",
      "  (0, 29)\t0.46535858369659316\n",
      "  (0, 19)\t0.3514829566875038\n",
      "  (0, 15)\t0.512621239159256\n",
      "  (1, 50)\t0.25476675144496436\n",
      "  (1, 37)\t0.5945348153070504\n",
      "  (1, 24)\t0.4776511374777649\n",
      "  (1, 13)\t0.5945348153070504\n",
      "  (2, 50)\t0.33559001038270325\n",
      "  (2, 43)\t0.693084136275112\n",
      "  (2, 19)\t0.4752188220892263\n",
      "  (2, 0)\t0.4256533755384153\n",
      "  (3, 44)\t0.6936034183548345\n",
      "  (3, 39)\t0.6138377831119065\n",
      "  (3, 0)\t0.3769847133117582\n",
      "  (4, 50)\t0.2849013785540113\n",
      "  (4, 43)\t0.5883984021261945\n",
      "  (4, 18)\t0.6648582969270387\n",
      "  (4, 0)\t0.3613612733548554\n",
      "  (5, 50)\t0.25476675144496436\n",
      "  (5, 33)\t0.5945348153070504\n",
      "  (5, 29)\t0.4776511374777649\n",
      "  (5, 16)\t0.5945348153070504\n",
      "  (6, 24)\t0.8282654070499371\n",
      "  :\t:\n",
      "  (9, 30)\t0.5994129051629247\n",
      "  (9, 8)\t0.5304793476171201\n",
      "  (10, 10)\t0.5699294910470167\n",
      "  (10, 9)\t0.5699294910470167\n",
      "  (10, 8)\t0.5043865789245925\n",
      "  (10, 0)\t0.30976592690372273\n",
      "  (11, 50)\t0.2396481592765475\n",
      "  (11, 29)\t0.4493059444517952\n",
      "  (11, 28)\t0.5592534084846453\n",
      "  (11, 19)\t0.3393584804189451\n",
      "  (11, 14)\t0.5592534084846453\n",
      "  (12, 50)\t0.33559001038270325\n",
      "  (12, 19)\t0.4752188220892263\n",
      "  (12, 1)\t0.693084136275112\n",
      "  (12, 0)\t0.4256533755384153\n",
      "  (13, 50)\t0.2804247920423075\n",
      "  (13, 46)\t0.6544115391776595\n",
      "  (13, 19)\t0.39710103172317246\n",
      "  (13, 1)\t0.5791530402264562\n",
      "  (14, 50)\t0.30554855166987965\n",
      "  (14, 31)\t0.7130414416483672\n",
      "  (14, 15)\t0.6310403989163108\n",
      "  (15, 49)\t0.5773502691896257\n",
      "  (15, 41)\t0.5773502691896257\n",
      "  (15, 2)\t0.5773502691896257\n"
     ]
    }
   ],
   "source": [
    "Train_X_Tfidf = Tfidf_vect.transform(Train_X)\n",
    "Test_X_Tfidf = Tfidf_vect.transform(Test_X)\n",
    "print(Train_X_Tfidf)"
   ]
  },
  {
   "cell_type": "markdown",
   "metadata": {},
   "source": [
    "## Modelo SVM — Support Vector Machine"
   ]
  },
  {
   "cell_type": "code",
   "execution_count": 66,
   "metadata": {},
   "outputs": [
    {
     "name": "stdout",
     "output_type": "stream",
     "text": [
      "SVM Accuracy Score ->  75.0\n"
     ]
    }
   ],
   "source": [
    "SVM = svm.SVC(C=1.0, kernel='linear', degree=3, gamma='auto')\n",
    "SVM.fit(Train_X_Tfidf,Train_Y)\n",
    "predictions_SVM = SVM.predict(Test_X_Tfidf)\n",
    "print(\"SVM Accuracy Score -> \",accuracy_score(predictions_SVM, Test_Y)*100)"
   ]
  }
 ],
 "metadata": {
  "kernelspec": {
   "display_name": "Python 3",
   "language": "python",
   "name": "python3"
  },
  "language_info": {
   "codemirror_mode": {
    "name": "ipython",
    "version": 3
   },
   "file_extension": ".py",
   "mimetype": "text/x-python",
   "name": "python",
   "nbconvert_exporter": "python",
   "pygments_lexer": "ipython3",
   "version": "3.7.6"
  }
 },
 "nbformat": 4,
 "nbformat_minor": 4
}
